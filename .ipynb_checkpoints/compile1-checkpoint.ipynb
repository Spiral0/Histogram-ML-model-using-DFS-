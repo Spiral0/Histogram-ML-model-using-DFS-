{
 "cells": [
  {
   "cell_type": "code",
   "execution_count": 1,
   "metadata": {},
   "outputs": [],
   "source": [
    "from functools import reduce\n",
    "from pyspark.sql import DataFrame, SparkSession\n"
   ]
  },
  {
   "cell_type": "code",
   "execution_count": null,
   "metadata": {},
   "outputs": [],
   "source": [
    "import pyspark\n",
    "print(pyspark.__version__)\n"
   ]
  },
  {
   "cell_type": "code",
   "execution_count": null,
   "metadata": {},
   "outputs": [],
   "source": [
    "# Create a Spark session\n",
    "spark = SparkSession.builder.master(\"local\").appName(\"test\").getOrCreate()\n",
    "\n",
    "# spark = SparkSession.builder.appName(\"HelloWorld\").getOrCreate()\n"
   ]
  },
  {
   "cell_type": "code",
   "execution_count": null,
   "metadata": {},
   "outputs": [],
   "source": [
    "# List of CSV files to process\n",
    "file_paths = [\n",
    "    \"K:/Sch/4.1/Advanced_DBMS/CAT_2/Code/Data/africa_geopoll_coronavirus_r2_weighteddata_5_18.csv\",\n",
    "    \"K:/Sch/4.1/Advanced_DBMS/CAT_2/Code/Data/africa_covid19_daily_infections_national.csv\",\n",
    "]\n",
    "\n",
    "# Read each CSV file into a separate DataFrame\n",
    "dfs = [spark.read.format(\"csv\").option(\"header\", \"true\").load(file_path) for file_path in file_paths]\n",
    "\n",
    "# Define the condition for filtering\n",
    "filter_conditions = []\n",
    "\n",
    "# Condition for africa_covid19_daily_infections_national\n",
    "filter_conditions.append(dfs[1].filter(dfs[1][\"COUNTRY_NAME\"].contains(\"Kenya\")))\n",
    "\n",
    "# Condition for africa_geopoll_coronavirus_r2_weighteddata_5_18\n",
    "filter_conditions.append(dfs[0].filter(dfs[0][\"Country\"].contains(\"Kenya\")))\n",
    "\n",
    "# Combine filter conditions using union\n",
    "filter_condition = reduce(DataFrame.union, filter_conditions)\n",
    "\n"
   ]
  },
  {
   "cell_type": "code",
   "execution_count": null,
   "metadata": {},
   "outputs": [],
   "source": [
    "\n",
    "# Optionally, you can display the resulting DataFrame\n",
    "filter_condition.show()\n",
    "\n"
   ]
  },
  {
   "cell_type": "code",
   "execution_count": null,
   "metadata": {},
   "outputs": [],
   "source": [
    "# Write the filtered DataFrame to a new CSV file in HDFS\n",
    "filter_condition.write.format(\"csv\").mode(\"overwrite\").save(\"K:/Sch/4.1/Advanced DBMS/CAT 2/Code/Data/new_dataset/\")"
   ]
  }
 ],
 "metadata": {
  "kernelspec": {
   "display_name": "gan_example_env",
   "language": "python",
   "name": "gan_example_env"
  },
  "language_info": {
   "codemirror_mode": {
    "name": "ipython",
    "version": 3
   },
   "file_extension": ".py",
   "mimetype": "text/x-python",
   "name": "python",
   "nbconvert_exporter": "python",
   "pygments_lexer": "ipython3",
   "version": "3.10.2"
  }
 },
 "nbformat": 4,
 "nbformat_minor": 2
}
