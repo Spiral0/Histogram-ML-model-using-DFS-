{
 "cells": [
  {
   "cell_type": "code",
   "execution_count": 1,
   "metadata": {},
   "outputs": [],
   "source": [
    "from pyspark.sql import SparkSession\n",
    "from pyspark.ml import Pipeline\n",
    "from pyspark.sql.functions import col\n",
    "from pyspark.ml.feature import StringIndexer\n",
    "\n",
    "spark = SparkSession.builder.appName(\"Covid19_confirmed cases_predicting_model\").getOrCreate()\n"
   ]
  },
  {
   "cell_type": "markdown",
   "metadata": {},
   "source": [
    "Reading data from datalake"
   ]
  },
  {
   "cell_type": "code",
   "execution_count": 2,
   "metadata": {},
   "outputs": [],
   "source": [
    "\n",
    "# Load the CSV file into a DataFrame\n",
    "df1 = spark.read.csv(\"hdfs://localhost:9000/datalake/africa_geopoll_coronavirus_r2_weighteddata_5_18.csv\", header=True, inferSchema=True)\n",
    "df2 = spark.read.csv(\"hdfs://localhost:9000/datalake/africa_geopoll_round2.csv\", header=True, inferSchema=True)"
   ]
  },
  {
   "cell_type": "markdown",
   "metadata": {},
   "source": [
    "Data Preprocessing with PySpark"
   ]
  },
  {
   "cell_type": "code",
   "execution_count": 3,
   "metadata": {},
   "outputs": [
    {
     "name": "stdout",
     "output_type": "stream",
     "text": [
      "Columns present in df1 but not in df2: {'PreventativeMeasures_Avoiding public transport', 'CommercialTrust_Other', 'Groups_Brands', 'InitiativeTaken_None', 'PreventativeMeasures_Other', 'Groups_Governments', 'CommercialTrust_Telecommuncations', 'Groups_Private sector', 'CommercialTrust_Brands', 'SurveyId', 'InformationSources_Radio', 'Groups_NGOs', 'InformationSources_Government messages', 'PreventativeMeasures_Increasing hygiene', 'Groups_Retailers', 'Groups_All of the above', 'Cut', 'CommercialTrust_Retailers', 'InitiativeTaken_Limited store traffic', 'InformationSources_Social Media', 'Batch', 'InitiativeTaken_Sanitiser offered', 'CommercialTrust_Banks', 'InformationSources_TV', 'Mobile Number', 'PreventativeMeasures_Avoiding public places', 'InformationSources_Newspapers', 'PreventativeMeasures_Working from home', 'InformationSources_Other', 'InitiativeTaken_Sectioned intercepts', 'InitiativeTaken_Staff in protective gear', 'InformationSources_Friends/family', 'Admin2', 'UserId'}\n",
      "Columns present in df2 but not in df1: {'Gender.Weights', 'ADM1.Weights', 'PreventativeMeasures: Other', 'PreventativeMeasures: Increasing hygiene', 'PreventativeMeasures: Working from home', 'CommercialTrust: Other', 'CommercialTrust: Brands', 'CommercialTrust: Retailers', 'InitiativeTaken: None', 'PreventativeMeasures: Avoiding public places', 'Total Weights', 'InitiativeTaken: Limited store traffic', 'Groups: Governments', 'InformationSources: Newspapers', 'InformationSources: TV', 'Age Group.Weights', 'PreventativeMeasures: Avoiding public transport', 'InitiativeTaken: Sectioned intercepts', 'Groups: Brands', 'Survey Date', 'InformationSources: Social Media', 'Groups: NGOs', 'CommercialTrust: Banks', 'CommercialTrust: Telecommuncations', 'Groups: Private Sector', 'BiggestChallenge', 'InitiativeTaken: Staff in protective gear', 'InformationSources: Radio', 'Groups: Retailers', 'InformationSources: Government messages', 'InformationSources: Other', 'InformationSources: Friends/family'}\n",
      "Columns present in both: {'NonEssentialItems', 'Awareness', 'SEC', 'FoodLocations2', 'LevelConcern', 'HealthBehavior', 'BrandPurchase', 'Gender', 'Urban/Rural', 'FoodAmount', 'RiskAwareness', 'Concerns', 'MarketOperability', 'Admin1', 'StayPositive', 'Foodworry', 'FoodShopping', 'EconomicImpact', 'GovernmentTrust', 'MediaConsumption', 'FoodLocations', 'SocialMedia', 'VirusPrevention', 'Age', 'Tested', 'BirthYear', 'Country', 'HandWashing', 'SocialDistancing', 'Age Group'}\n"
     ]
    }
   ],
   "source": [
    "# Get the column names for each DataFrame\n",
    "columns_df1 = set(df1.columns)\n",
    "columns_df2 = set(df2.columns)\n",
    "\n",
    "# Find columns differences\n",
    "columns_only_in_df1 = columns_df1 - columns_df2\n",
    "columns_only_in_df2 = columns_df2 - columns_df1\n",
    "\n",
    "# Find columns present in both DataFrames\n",
    "common_columns = columns_df1 & columns_df2\n",
    "\n",
    "print(\"Columns present in df1 but not in df2:\", columns_only_in_df1)\n",
    "print(\"Columns present in df2 but not in df1:\", columns_only_in_df2)\n",
    "print(\"Columns present in both:\", common_columns)"
   ]
  },
  {
   "cell_type": "markdown",
   "metadata": {},
   "source": [
    "Create a new DataFrame with only the common columns"
   ]
  },
  {
   "cell_type": "code",
   "execution_count": 4,
   "metadata": {},
   "outputs": [
    {
     "name": "stdout",
     "output_type": "stream",
     "text": [
      "+-----------------+---------+---+--------------+------------+--------------+--------------------+------+-----------+--------------------+-------------+--------------------+-----------------+------------------+------------+---------+--------------------+--------------+---------------+----------------+-------------+-------------+---------------+---+--------------------+---------+--------------------+-----------------+----------------+---------+\n",
      "|NonEssentialItems|Awareness|SEC|FoodLocations2|LevelConcern|HealthBehavior|       BrandPurchase|Gender|Urban/Rural|          FoodAmount|RiskAwareness|            Concerns|MarketOperability|            Admin1|StayPositive|Foodworry|        FoodShopping|EconomicImpact|GovernmentTrust|MediaConsumption|FoodLocations|  SocialMedia|VirusPrevention|Age|              Tested|BirthYear|             Country|      HandWashing|SocialDistancing|Age Group|\n",
      "+-----------------+---------+---+--------------+------------+--------------+--------------------+------+-----------+--------------------+-------------+--------------------+-----------------+------------------+------------+---------+--------------------+--------------+---------------+----------------+-------------+-------------+---------------+---+--------------------+---------+--------------------+-----------------+----------------+---------+\n",
      "|        No change|      Yes| C1|           N/A|           5|  Go to doctor|                 N/A|Female| Rural area|Bigger packsize t...|           No|     Economic impact|     All are open|Sassandra-Marahoué|        null|       No|More often than u...|             4|              3|       No change|           No|          N/A|            Yes| 23|                  No|     1996|Ivory Coast (Cote...|        3-5 times|             Yes|    15-25|\n",
      "|        Increased|      Yes|  B|           N/A|           5|  Go to doctor|Switch to an alte...|Female| Rural area|Smaller packsize ...|           No|   Global infections|    Some are open|           Abidjan|        null|      Yes|Less often than u...|             5|              3|  Consuming more|           No|          N/A|            Yes| 27|                  No|     1992|Ivory Coast (Cote...|        1-2 times|             Yes|    26-35|\n",
      "|        Increased|      Yes| C1|           N/A|           5|Go to hospital|                 N/A|  Male| Urban area|       Same as usual|          Yes|Contracting the d...|     All are open|             Comoé|        null|       No|Same as usual [no...|             3|              1|       No change|           No|          N/A|            Yes| 54|Yes - tested nega...|     1965|Ivory Coast (Cote...|More than 5 times|              No|      36+|\n",
      "|        Decreased|      Yes| C1| Supersmarkets|           2|  Go to doctor|Switch to an alte...|  Male| Rural area|       Same as usual|          Yes|   Global infections|    Some are open|           Lagunes|        null|      Yes|Same as usual [no...|             2|              5|       No change|          Yes|          N/A|            Yes| 29|Yes - tested nega...|     1990|Ivory Coast (Cote...|        3-5 times|             Yes|    26-35|\n",
      "|        No change|      Yes|  B|           N/A|           1|Go to hospital|Switch to an alte...|  Male| Rural area|       Same as usual|          Yes|    Local infections|    Some are open|           Abidjan|        null|      Yes|Same as usual [no...|             1|              5|  Consuming less|           No|          N/A|            Yes| 33|                  No|     1986|Ivory Coast (Cote...|          0 times|             Yes|    26-35|\n",
      "|        No change|      Yes| C1| Supersmarkets|           5|Go to hospital|Switch to an alte...|  Male| Rural area|Bigger packsize t...|           No|Contracting the d...|    Some are open|           Lagunes|        null|      Yes|Less often than u...|             5|              5|       No change|          Yes|Media outlets|            Yes| 36|                  No|     1983|Ivory Coast (Cote...|More than 5 times|             Yes|      36+|\n",
      "|        No change|      Yes| C1|           N/A|           5|Go to hospital|Switch to an alte...|  Male| Urban area|Smaller packsize ...|          Yes|Contracting the d...|    Most are open|            Woroba|        null|      Yes|Less often than u...|             5|              3|  Consuming less|           No|  Governments|            Yes| 26|                  No|     1993|Ivory Coast (Cote...|        3-5 times|             Yes|    26-35|\n",
      "|        No change|      Yes| C1| Supersmarkets|           5|  Go to doctor|Purchase your usu...|Female| Urban area|       Same as usual|           No|   Global infections|    Some are open|Sassandra-Marahoué|        null|      Yes|Less often than u...|             5|              2|       No change|          Yes|  Governments|            Yes| 22|Yes - tested posi...|     1997|Ivory Coast (Cote...|        1-2 times|             Yes|    15-25|\n",
      "|        Increased|      Yes| C1|   Wholesalers|           5|Go to hospital|Switch to an alte...|  Male| Urban area|Bigger packsize t...|           No|Contracting the d...|    Most are open|            Woroba|        null|      Yes|Less often than u...|             5|              1|  Consuming more|          Yes|          N/A|            Yes| 21|                  No|     1998|Ivory Coast (Cote...|        1-2 times|              No|    15-25|\n",
      "|        No change|      Yes|  B|           N/A|           1|Go to hospital|Switch to an alte...|  Male| Urban area|Bigger packsize t...|           No|Contracting the d...|  Most are closed|           Abidjan|        null|      Yes|Less often than u...|             2|              5|       No change|           No|          N/A|            Yes| 22|            Not sure|     1997|Ivory Coast (Cote...|More than 5 times|              No|    15-25|\n",
      "|        Increased|      Yes| C1|           N/A|           5|  Go to doctor|Switch to an alte...|  Male| Urban area|       Same as usual|          Yes|     Economic impact|    Some are open|           Lagunes|        null|      Yes|Same as usual [no...|             5|              3|  Consuming more|           No|Media outlets|            Yes| 27|                  No|     1992|Ivory Coast (Cote...|        3-5 times|             Yes|    26-35|\n",
      "|        Increased|      Yes| C1|           N/A|           5|  Go to doctor|                 N/A|Female| Urban area|       Same as usual|           No|     Economic impact|     All are open| Vallée du Bandama|        null|       No|Less often than u...|             5|              5|  Consuming more|           No|          N/A|            Yes| 30|                  No|     1989|Ivory Coast (Cote...|More than 5 times|             Yes|    26-35|\n",
      "|        Decreased|      Yes|  D| Supersmarkets|           2|  Go to doctor|Switch to an alte...|Female| Rural area|       Same as usual|          Yes|     Economic impact|    Most are open|         Montagnes|        null|      Yes|Less often than u...|             2|              2|  Consuming less|          Yes|          N/A|            Yes| 27|Yes - tested nega...|     1992|Ivory Coast (Cote...|        1-2 times|             Yes|    26-35|\n",
      "|        No change|      Yes| C1|           N/A|           5|Go to hospital|                 N/A|Female| Rural area|       Same as usual|           No|   Global infections|    Some are open|           Abidjan|        null|       No|More often than u...|             5|              5|       No change|           No|          N/A|             No| 57|            Not sure|     1962|Ivory Coast (Cote...|More than 5 times|              No|      36+|\n",
      "|        Decreased|      Yes| C1|           N/A|           1|Go to hospital|Purchase your usu...|  Male| Urban area|       Same as usual|           No|   Global infections|     All are open|              Lacs|        null|      Yes|Same as usual [no...|             1|              5|       No change|           No|          N/A|            Yes| 38|            Not sure|     1981|Ivory Coast (Cote...|        3-5 times|             Yes|      36+|\n",
      "|        Decreased|      Yes| C1| Supersmarkets|           5|  Go to doctor|Switch to an alte...|  Male| Rural area|Bigger packsize t...|           No|Contracting the d...|    Most are open|           Abidjan|        null|      Yes|Less often than u...|             5|              5|  Consuming more|          Yes|          N/A|            Yes| 19|            Not sure|     2000|Ivory Coast (Cote...|More than 5 times|             Yes|    15-25|\n",
      "|        Decreased|      Yes|  B| Supersmarkets|           5|Go to hospital|Purchase your usu...|  Male| Rural area|       Same as usual|           No|Contracting the d...|    Some are open|     Bas-Sassandra|        null|      Yes|More often than u...|             3|              3|       No change|          Yes|          N/A|            Yes| 22|            Not sure|     1997|Ivory Coast (Cote...|        1-2 times|              No|    15-25|\n",
      "|        No change|      Yes| C1|           N/A|           1|  Go to doctor|Switch to an alte...|Female| Urban area|       Same as usual|           No|   Global infections|    Some are open|           Abidjan|        null|      Yes|Less often than u...|             1|              5|  Consuming less|           No|          N/A|            Yes| 16|                  No|     2003|Ivory Coast (Cote...|More than 5 times|             Yes|    15-25|\n",
      "|        Increased|      Yes| C1|         Other|           5|  Go to doctor|Switch to an alte...|  Male| Urban area|Smaller packsize ...|           No|   Global infections|  Most are closed|           Abidjan|        null|      Yes|Less often than u...|             5|              1|       No change|          Yes|          N/A|            Yes| 28|            Not sure|     1991|Ivory Coast (Cote...|More than 5 times|             Yes|    26-35|\n",
      "|        Increased|      Yes| C1|  Hypermarkets|           1|  Go to doctor|Switch to an alte...|  Male| Urban area|Bigger packsize t...|          Yes|     Economic impact|    Some are open|           Abidjan|        null|      Yes|More often than u...|             5|              5|  Consuming more|          Yes|  Governments|            Yes| 30|                  No|     1989|Ivory Coast (Cote...|        3-5 times|              No|    26-35|\n",
      "+-----------------+---------+---+--------------+------------+--------------+--------------------+------+-----------+--------------------+-------------+--------------------+-----------------+------------------+------------+---------+--------------------+--------------+---------------+----------------+-------------+-------------+---------------+---+--------------------+---------+--------------------+-----------------+----------------+---------+\n",
      "only showing top 20 rows\n",
      "\n"
     ]
    }
   ],
   "source": [
    "\n",
    "common_columns_df1 = df1.select(*common_columns)\n",
    "common_columns_df2 = df1.select(*common_columns)\n",
    "\n",
    "\n",
    "# Append the two DataFrames\n",
    "appended_common_columns_df = common_columns_df1.union(common_columns_df2)\n",
    "\n",
    "\n",
    "appended_common_columns_df.show()\n"
   ]
  },
  {
   "cell_type": "markdown",
   "metadata": {},
   "source": [
    "Remove columns with empty values"
   ]
  },
  {
   "cell_type": "code",
   "execution_count": 5,
   "metadata": {},
   "outputs": [],
   "source": [
    "def cleaning_data(df):\n",
    "    # Create a list of columns with missing values\n",
    "    cols_with_missing = [col_name for col_name in df.columns if df.filter(col(col_name).isNull()).count() > 0]\n",
    "\n",
    "    # Drop columns with missing values\n",
    "    df_cleaned = df.drop(*cols_with_missing)\n",
    "\n",
    "    return df_cleaned\n",
    "\n",
    "# Dropping a specific column\n",
    "appended_common_columns_df = appended_common_columns_df.drop(\"Admin1\")\n",
    "\n",
    "df_cleaned = cleaning_data(appended_common_columns_df)\n"
   ]
  },
  {
   "cell_type": "code",
   "execution_count": 6,
   "metadata": {},
   "outputs": [
    {
     "name": "stdout",
     "output_type": "stream",
     "text": [
      "No of columns before:  29\n",
      "No of columns after:  27\n"
     ]
    }
   ],
   "source": [
    "num_columns_old = len(appended_common_columns_df.columns)\n",
    "print(\"No of columns before: \", num_columns_old)\n",
    "\n",
    "num_columns_new = len(df_cleaned.columns)\n",
    "print(\"No of columns after: \", num_columns_new)"
   ]
  },
  {
   "cell_type": "markdown",
   "metadata": {},
   "source": [
    "Modifying the test column to show only relevant values\n",
    "\n",
    "i.e. Only those tested "
   ]
  },
  {
   "cell_type": "code",
   "execution_count": 7,
   "metadata": {},
   "outputs": [
    {
     "name": "stdout",
     "output_type": "stream",
     "text": [
      "Tested Column Value Counts:\n",
      "+--------------------+-----+\n",
      "|              Tested|count|\n",
      "+--------------------+-----+\n",
      "|Yes - tested posi...|  970|\n",
      "|                  No| 5326|\n",
      "|Yes - tested nega...| 1418|\n",
      "|            Not sure| 1086|\n",
      "+--------------------+-----+\n",
      "\n"
     ]
    }
   ],
   "source": [
    "# Count occurrences of each value in the \"Tested\" column\n",
    "test_counts = df_cleaned.groupBy(\"Tested\").count()\n",
    "\n",
    "# Display the results\n",
    "print(\"Tested Column Value Counts:\")\n",
    "test_counts.show()"
   ]
  },
  {
   "cell_type": "code",
   "execution_count": 8,
   "metadata": {},
   "outputs": [
    {
     "name": "stdout",
     "output_type": "stream",
     "text": [
      "Tested Column Value Counts:\n",
      "+--------------------+-----+\n",
      "|              Tested|count|\n",
      "+--------------------+-----+\n",
      "|Yes - tested posi...|  970|\n",
      "|Yes - tested nega...| 1418|\n",
      "+--------------------+-----+\n",
      "\n"
     ]
    }
   ],
   "source": [
    "desired_values = [\"Yes - tested positive\", \"Yes - tested negative\"]\n",
    "\n",
    "# Filter the DataFrame to include only rows with the specified values in the \"Tested\" column\n",
    "filtered_df = df_cleaned.filter(col(\"Tested\").isin(desired_values))\n",
    "\n",
    "# Count occurrences of each value in the \"Tested\" column\n",
    "test_counts = filtered_df.groupBy(\"Tested\").count()\n",
    "\n",
    "# Display the results\n",
    "print(\"Tested Column Value Counts:\")\n",
    "test_counts.show()"
   ]
  },
  {
   "cell_type": "markdown",
   "metadata": {},
   "source": [
    "Getting the column types"
   ]
  },
  {
   "cell_type": "code",
   "execution_count": 9,
   "metadata": {},
   "outputs": [
    {
     "name": "stdout",
     "output_type": "stream",
     "text": [
      "Data Types of Columns:\n",
      "NonEssentialItems: string\n",
      "Awareness: string\n",
      "FoodLocations2: string\n",
      "LevelConcern: string\n",
      "HealthBehavior: string\n",
      "BrandPurchase: string\n",
      "Gender: string\n",
      "Urban/Rural: string\n",
      "FoodAmount: string\n",
      "RiskAwareness: string\n",
      "Concerns: string\n",
      "MarketOperability: string\n",
      "Foodworry: string\n",
      "FoodShopping: string\n",
      "EconomicImpact: string\n",
      "GovernmentTrust: string\n",
      "MediaConsumption: string\n",
      "FoodLocations: string\n",
      "SocialMedia: string\n",
      "VirusPrevention: string\n",
      "Age: string\n",
      "Tested: string\n",
      "BirthYear: string\n",
      "Country: string\n",
      "HandWashing: string\n",
      "SocialDistancing: string\n",
      "Age Group: string\n"
     ]
    }
   ],
   "source": [
    "# Get the data types of the columns\n",
    "column_data_types = filtered_df.dtypes\n",
    "\n",
    "# Display the results\n",
    "print(\"Data Types of Columns:\")\n",
    "for col_name, col_type in column_data_types:\n",
    "    print(f\"{col_name}: {col_type}\")"
   ]
  },
  {
   "cell_type": "markdown",
   "metadata": {},
   "source": [
    "Encode string columns to double values"
   ]
  },
  {
   "cell_type": "code",
   "execution_count": 10,
   "metadata": {},
   "outputs": [
    {
     "name": "stdout",
     "output_type": "stream",
     "text": [
      "+---------------+---+---------+------------+---------------------+-----------------------+------------------+--------------+--------------------+---------------+---------------+---------------+------------+-----------------------+-------------------+-----------------+-----------------+--------------------+-----------------+------------------+----------------------+-------------------+----------------------+-------------+--------------------+----------------+-------------------+\n",
      "|GovernmentTrust|Age|BirthYear|Gender_index|VirusPrevention_index|MarketOperability_index|LevelConcern_index|Concerns_index|EconomicImpact_index|Awareness_index|Age Group_index|Foodworry_index|Tested_index|NonEssentialItems_index|RiskAwareness_index|Urban/Rural_index|SocialMedia_index|FoodLocations2_index|HandWashing_index|FoodShopping_index|MediaConsumption_index|FoodLocations_index|SocialDistancing_index|Country_index|HealthBehavior_index|FoodAmount_index|BrandPurchase_index|\n",
      "+---------------+---+---------+------------+---------------------+-----------------------+------------------+--------------+--------------------+---------------+---------------+---------------+------------+-----------------------+-------------------+-----------------+-----------------+--------------------+-----------------+------------------+----------------------+-------------------+----------------------+-------------+--------------------+----------------+-------------------+\n",
      "|              1| 54|     1965|         0.0|                  0.0|                    2.0|               0.0|           0.0|                 3.0|            0.0|            2.0|            1.0|         0.0|                    1.0|                0.0|              0.0|              0.0|                 0.0|              0.0|               2.0|                   2.0|                1.0|                   1.0|          7.0|                 0.0|             2.0|                2.0|\n",
      "|              5| 29|     1990|         0.0|                  0.0|                    0.0|               4.0|           2.0|                 4.0|            0.0|            1.0|            0.0|         0.0|                    0.0|                0.0|              1.0|              0.0|                 2.0|              1.0|               2.0|                   2.0|                0.0|                   0.0|          7.0|                 1.0|             2.0|                0.0|\n",
      "|              2| 22|     1997|         1.0|                  0.0|                    0.0|               0.0|           2.0|                 0.0|            0.0|            0.0|            0.0|         1.0|                    2.0|                1.0|              0.0|              3.0|                 2.0|              2.0|               0.0|                   2.0|                0.0|                   0.0|          7.0|                 1.0|             2.0|                1.0|\n",
      "|              2| 27|     1992|         1.0|                  0.0|                    3.0|               4.0|           1.0|                 4.0|            0.0|            1.0|            0.0|         0.0|                    0.0|                0.0|              1.0|              0.0|                 2.0|              2.0|               0.0|                   1.0|                0.0|                   0.0|          7.0|                 1.0|             2.0|                0.0|\n",
      "|              2| 26|     1993|         1.0|                  0.0|                    0.0|               3.0|           0.0|                 0.0|            0.0|            1.0|            0.0|         1.0|                    0.0|                1.0|              0.0|              0.0|                 0.0|              0.0|               2.0|                   0.0|                1.0|                   0.0|          7.0|                 0.0|             2.0|                0.0|\n",
      "|              2| 30|     1989|         1.0|                  0.0|                    3.0|               2.0|           1.0|                 2.0|            0.0|            1.0|            0.0|         0.0|                    0.0|                0.0|              0.0|              0.0|                 2.0|              1.0|               0.0|                   2.0|                0.0|                   0.0|          7.0|                 0.0|             0.0|                0.0|\n",
      "|              3| 45|     1974|         1.0|                  0.0|                    1.0|               0.0|           3.0|                 0.0|            0.0|            2.0|            1.0|         0.0|                    2.0|                1.0|              1.0|              0.0|                 0.0|              0.0|               1.0|                   0.0|                1.0|                   1.0|          7.0|                 0.0|             2.0|                2.0|\n",
      "|              2| 40|     1979|         0.0|                  0.0|                    3.0|               0.0|           0.0|                 0.0|            0.0|            2.0|            0.0|         1.0|                    1.0|                0.0|              0.0|              3.0|                 2.0|              0.0|               0.0|                   0.0|                0.0|                   1.0|          7.0|                 0.0|             0.0|                0.0|\n",
      "|              1| 23|     1996|         1.0|                  0.0|                    0.0|               0.0|           1.0|                 0.0|            0.0|            0.0|            0.0|         0.0|                    0.0|                1.0|              0.0|              0.0|                 2.0|              2.0|               1.0|                   0.0|                0.0|                   0.0|          7.0|                 0.0|             1.0|                0.0|\n",
      "|              5| 21|     1998|         0.0|                  0.0|                    1.0|               0.0|           2.0|                 0.0|            0.0|            0.0|            0.0|         1.0|                    1.0|                0.0|              0.0|              0.0|                 5.0|              0.0|               0.0|                   2.0|                0.0|                   0.0|          7.0|                 1.0|             2.0|                0.0|\n",
      "|              5| 34|     1985|         1.0|                  0.0|                    3.0|               0.0|           1.0|                 0.0|            0.0|            1.0|            0.0|         0.0|                    1.0|                0.0|              1.0|              0.0|                 0.0|              3.0|               0.0|                   1.0|                1.0|                   0.0|          7.0|                 0.0|             1.0|                0.0|\n",
      "|              1| 29|     1990|         0.0|                  0.0|                    2.0|               0.0|           3.0|                 0.0|            0.0|            1.0|            1.0|         0.0|                    0.0|                0.0|              1.0|              0.0|                 0.0|              0.0|               0.0|                   2.0|                1.0|                   1.0|          7.0|                 1.0|             2.0|                2.0|\n",
      "|              5| 21|     1998|         0.0|                  0.0|                    0.0|               0.0|           4.0|                 0.0|            0.0|            0.0|            0.0|         0.0|                    1.0|                1.0|              0.0|              0.0|                 0.0|              0.0|               2.0|                   1.0|                1.0|                   0.0|          7.0|                 1.0|             1.0|                0.0|\n",
      "|              5| 20|     1999|         1.0|                  0.0|                    0.0|               0.0|           2.0|                 2.0|            0.0|            0.0|            0.0|         0.0|                    0.0|                0.0|              0.0|              4.0|                 7.0|              1.0|               2.0|                   1.0|                0.0|                   0.0|          7.0|                 0.0|             0.0|                0.0|\n",
      "|              1| 40|     1979|         0.0|                  0.0|                    2.0|               0.0|           1.0|                 0.0|            0.0|            2.0|            0.0|         0.0|                    2.0|                0.0|              1.0|              0.0|                 0.0|              3.0|               2.0|                   0.0|                1.0|                   1.0|          7.0|                 1.0|             2.0|                0.0|\n",
      "|              2| 19|     2000|         1.0|                  0.0|                    4.0|               4.0|           0.0|                 2.0|            0.0|            0.0|            1.0|         1.0|                    1.0|                1.0|              1.0|              0.0|                 8.0|              1.0|               1.0|                   2.0|                0.0|                   0.0|          7.0|                 2.0|             2.0|                2.0|\n",
      "|              1| 25|     1994|         1.0|                  0.0|                    1.0|               1.0|           2.0|                 1.0|            0.0|            0.0|            1.0|         0.0|                    1.0|                1.0|              1.0|              0.0|                 2.0|              0.0|               0.0|                   1.0|                0.0|                   1.0|          7.0|                 1.0|             0.0|                2.0|\n",
      "|              3| 23|     1996|         0.0|                  0.0|                    2.0|               2.0|           0.0|                 3.0|            0.0|            0.0|            0.0|         1.0|                    0.0|                0.0|              0.0|              2.0|                 3.0|              3.0|               0.0|                   0.0|                0.0|                   0.0|          7.0|                 1.0|             0.0|                1.0|\n",
      "|              2| 27|     1992|         0.0|                  0.0|                    0.0|               0.0|           0.0|                 2.0|            0.0|            1.0|            0.0|         0.0|                    1.0|                0.0|              0.0|              0.0|                 2.0|              2.0|               1.0|                   0.0|                0.0|                   0.0|          7.0|                 1.0|             2.0|                0.0|\n",
      "|              3| 25|     1994|         0.0|                  0.0|                    0.0|               0.0|           4.0|                 0.0|            0.0|            0.0|            0.0|         1.0|                    1.0|                1.0|              0.0|              0.0|                 2.0|              0.0|               0.0|                   1.0|                0.0|                   0.0|          7.0|                 0.0|             0.0|                0.0|\n",
      "+---------------+---+---------+------------+---------------------+-----------------------+------------------+--------------+--------------------+---------------+---------------+---------------+------------+-----------------------+-------------------+-----------------+-----------------+--------------------+-----------------+------------------+----------------------+-------------------+----------------------+-------------+--------------------+----------------+-------------------+\n",
      "only showing top 20 rows\n",
      "\n"
     ]
    }
   ],
   "source": [
    "# List of string column names to encode\n",
    "string_columns_to_encode = [\"Gender\", \"VirusPrevention\", \"MarketOperability\", \"LevelConcern\", \"Concerns\", \"EconomicImpact\", \"Awareness\", \"Age Group\", \"Foodworry\", \"Tested\", \"NonEssentialItems\", \"RiskAwareness\", \"Urban/Rural\", \"SocialMedia\", \"FoodLocations2\", \"HandWashing\", \"FoodShopping\", \"MediaConsumption\", \"FoodLocations\", \"SocialDistancing\", \"Country\", \"HealthBehavior\", \"FoodAmount\", \"BrandPurchase\"]\n",
    "\n",
    "# Create a Pipeline to apply StringIndexer to each string column\n",
    "indexers = [StringIndexer(inputCol=col_name, outputCol=col_name+\"_index\", handleInvalid=\"keep\") for col_name in string_columns_to_encode]\n",
    "pipeline = Pipeline(stages=indexers)\n",
    "df_encoded = pipeline.fit(filtered_df).transform(filtered_df)\n",
    "\n",
    "\n",
    "# Drop the original string columns as the df_encoded above contains the original columns + the indexed ones\n",
    "df_encoded = df_encoded.drop(*string_columns_to_encode)\n",
    "\n",
    "# Show the DataFrame with encoded values\n",
    "df_encoded.show()"
   ]
  },
  {
   "cell_type": "code",
   "execution_count": 11,
   "metadata": {},
   "outputs": [
    {
     "name": "stdout",
     "output_type": "stream",
     "text": [
      "Data Types of Columns:\n",
      "GovernmentTrust: string\n",
      "Age: string\n",
      "BirthYear: string\n",
      "Gender_index: double\n",
      "VirusPrevention_index: double\n",
      "MarketOperability_index: double\n",
      "LevelConcern_index: double\n",
      "Concerns_index: double\n",
      "EconomicImpact_index: double\n",
      "Awareness_index: double\n",
      "Age Group_index: double\n",
      "Foodworry_index: double\n",
      "Tested_index: double\n",
      "NonEssentialItems_index: double\n",
      "RiskAwareness_index: double\n",
      "Urban/Rural_index: double\n",
      "SocialMedia_index: double\n",
      "FoodLocations2_index: double\n",
      "HandWashing_index: double\n",
      "FoodShopping_index: double\n",
      "MediaConsumption_index: double\n",
      "FoodLocations_index: double\n",
      "SocialDistancing_index: double\n",
      "Country_index: double\n",
      "HealthBehavior_index: double\n",
      "FoodAmount_index: double\n",
      "BrandPurchase_index: double\n"
     ]
    }
   ],
   "source": [
    "# Get the data types of the columns\n",
    "column_data_types = df_encoded.dtypes\n",
    "\n",
    "# Display the results\n",
    "print(\"Data Types of Columns:\")\n",
    "for col_name, col_type in column_data_types:\n",
    "    print(f\"{col_name}: {col_type}\")"
   ]
  },
  {
   "cell_type": "markdown",
   "metadata": {},
   "source": [
    "Type casting string values saved as double"
   ]
  },
  {
   "cell_type": "code",
   "execution_count": 12,
   "metadata": {},
   "outputs": [
    {
     "name": "stdout",
     "output_type": "stream",
     "text": [
      "Data Types of Columns After Casting to double:\n",
      "GovernmentTrust: double\n",
      "Age: double\n",
      "BirthYear: double\n",
      "Gender_index: double\n",
      "VirusPrevention_index: double\n",
      "MarketOperability_index: double\n",
      "LevelConcern_index: double\n",
      "Concerns_index: double\n",
      "EconomicImpact_index: double\n",
      "Awareness_index: double\n",
      "Age Group_index: double\n",
      "Foodworry_index: double\n",
      "Tested_index: double\n",
      "NonEssentialItems_index: double\n",
      "RiskAwareness_index: double\n",
      "Urban/Rural_index: double\n",
      "SocialMedia_index: double\n",
      "FoodLocations2_index: double\n",
      "HandWashing_index: double\n",
      "FoodShopping_index: double\n",
      "MediaConsumption_index: double\n",
      "FoodLocations_index: double\n",
      "SocialDistancing_index: double\n",
      "Country_index: double\n",
      "HealthBehavior_index: double\n",
      "FoodAmount_index: double\n",
      "BrandPurchase_index: double\n"
     ]
    }
   ],
   "source": [
    "df000 = df_encoded.withColumn(\"Age\", col(\"Age\").cast(\"double\"))\n",
    "df001 = df000.withColumn(\"BirthYear\", col(\"BirthYear\").cast(\"double\"))\n",
    "df = df001.withColumn(\"GovernmentTrust\", col(\"GovernmentTrust\").cast(\"double\"))\n",
    "\n",
    "# Get the data types of the columns\n",
    "column_data_types = df.dtypes\n",
    "print(\"Data Types of Columns After Casting to double:\")\n",
    "for col_name, col_type in column_data_types:\n",
    "    print(f\"{col_name}: {col_type}\")"
   ]
  },
  {
   "cell_type": "markdown",
   "metadata": {},
   "source": [
    "Selecting the column to be predicted"
   ]
  },
  {
   "cell_type": "code",
   "execution_count": 13,
   "metadata": {},
   "outputs": [
    {
     "name": "stdout",
     "output_type": "stream",
     "text": [
      "+---------------+----+---------+------------+---------------------+-----------------------+------------------+--------------+--------------------+---------------+---------------+---------------+-----------------------+-------------------+-----------------+-----------------+--------------------+-----------------+------------------+----------------------+-------------------+----------------------+-------------+--------------------+----------------+-------------------+------------+\n",
      "|GovernmentTrust| Age|BirthYear|Gender_index|VirusPrevention_index|MarketOperability_index|LevelConcern_index|Concerns_index|EconomicImpact_index|Awareness_index|Age Group_index|Foodworry_index|NonEssentialItems_index|RiskAwareness_index|Urban/Rural_index|SocialMedia_index|FoodLocations2_index|HandWashing_index|FoodShopping_index|MediaConsumption_index|FoodLocations_index|SocialDistancing_index|Country_index|HealthBehavior_index|FoodAmount_index|BrandPurchase_index|Tested_index|\n",
      "+---------------+----+---------+------------+---------------------+-----------------------+------------------+--------------+--------------------+---------------+---------------+---------------+-----------------------+-------------------+-----------------+-----------------+--------------------+-----------------+------------------+----------------------+-------------------+----------------------+-------------+--------------------+----------------+-------------------+------------+\n",
      "|            1.0|54.0|   1965.0|         0.0|                  0.0|                    2.0|               0.0|           0.0|                 3.0|            0.0|            2.0|            1.0|                    1.0|                0.0|              0.0|              0.0|                 0.0|              0.0|               2.0|                   2.0|                1.0|                   1.0|          7.0|                 0.0|             2.0|                2.0|         0.0|\n",
      "|            5.0|29.0|   1990.0|         0.0|                  0.0|                    0.0|               4.0|           2.0|                 4.0|            0.0|            1.0|            0.0|                    0.0|                0.0|              1.0|              0.0|                 2.0|              1.0|               2.0|                   2.0|                0.0|                   0.0|          7.0|                 1.0|             2.0|                0.0|         0.0|\n",
      "|            2.0|22.0|   1997.0|         1.0|                  0.0|                    0.0|               0.0|           2.0|                 0.0|            0.0|            0.0|            0.0|                    2.0|                1.0|              0.0|              3.0|                 2.0|              2.0|               0.0|                   2.0|                0.0|                   0.0|          7.0|                 1.0|             2.0|                1.0|         1.0|\n",
      "|            2.0|27.0|   1992.0|         1.0|                  0.0|                    3.0|               4.0|           1.0|                 4.0|            0.0|            1.0|            0.0|                    0.0|                0.0|              1.0|              0.0|                 2.0|              2.0|               0.0|                   1.0|                0.0|                   0.0|          7.0|                 1.0|             2.0|                0.0|         0.0|\n",
      "|            2.0|26.0|   1993.0|         1.0|                  0.0|                    0.0|               3.0|           0.0|                 0.0|            0.0|            1.0|            0.0|                    0.0|                1.0|              0.0|              0.0|                 0.0|              0.0|               2.0|                   0.0|                1.0|                   0.0|          7.0|                 0.0|             2.0|                0.0|         1.0|\n",
      "|            2.0|30.0|   1989.0|         1.0|                  0.0|                    3.0|               2.0|           1.0|                 2.0|            0.0|            1.0|            0.0|                    0.0|                0.0|              0.0|              0.0|                 2.0|              1.0|               0.0|                   2.0|                0.0|                   0.0|          7.0|                 0.0|             0.0|                0.0|         0.0|\n",
      "|            3.0|45.0|   1974.0|         1.0|                  0.0|                    1.0|               0.0|           3.0|                 0.0|            0.0|            2.0|            1.0|                    2.0|                1.0|              1.0|              0.0|                 0.0|              0.0|               1.0|                   0.0|                1.0|                   1.0|          7.0|                 0.0|             2.0|                2.0|         0.0|\n",
      "|            2.0|40.0|   1979.0|         0.0|                  0.0|                    3.0|               0.0|           0.0|                 0.0|            0.0|            2.0|            0.0|                    1.0|                0.0|              0.0|              3.0|                 2.0|              0.0|               0.0|                   0.0|                0.0|                   1.0|          7.0|                 0.0|             0.0|                0.0|         1.0|\n",
      "|            1.0|23.0|   1996.0|         1.0|                  0.0|                    0.0|               0.0|           1.0|                 0.0|            0.0|            0.0|            0.0|                    0.0|                1.0|              0.0|              0.0|                 2.0|              2.0|               1.0|                   0.0|                0.0|                   0.0|          7.0|                 0.0|             1.0|                0.0|         0.0|\n",
      "|            5.0|21.0|   1998.0|         0.0|                  0.0|                    1.0|               0.0|           2.0|                 0.0|            0.0|            0.0|            0.0|                    1.0|                0.0|              0.0|              0.0|                 5.0|              0.0|               0.0|                   2.0|                0.0|                   0.0|          7.0|                 1.0|             2.0|                0.0|         1.0|\n",
      "|            5.0|34.0|   1985.0|         1.0|                  0.0|                    3.0|               0.0|           1.0|                 0.0|            0.0|            1.0|            0.0|                    1.0|                0.0|              1.0|              0.0|                 0.0|              3.0|               0.0|                   1.0|                1.0|                   0.0|          7.0|                 0.0|             1.0|                0.0|         0.0|\n",
      "|            1.0|29.0|   1990.0|         0.0|                  0.0|                    2.0|               0.0|           3.0|                 0.0|            0.0|            1.0|            1.0|                    0.0|                0.0|              1.0|              0.0|                 0.0|              0.0|               0.0|                   2.0|                1.0|                   1.0|          7.0|                 1.0|             2.0|                2.0|         0.0|\n",
      "|            5.0|21.0|   1998.0|         0.0|                  0.0|                    0.0|               0.0|           4.0|                 0.0|            0.0|            0.0|            0.0|                    1.0|                1.0|              0.0|              0.0|                 0.0|              0.0|               2.0|                   1.0|                1.0|                   0.0|          7.0|                 1.0|             1.0|                0.0|         0.0|\n",
      "|            5.0|20.0|   1999.0|         1.0|                  0.0|                    0.0|               0.0|           2.0|                 2.0|            0.0|            0.0|            0.0|                    0.0|                0.0|              0.0|              4.0|                 7.0|              1.0|               2.0|                   1.0|                0.0|                   0.0|          7.0|                 0.0|             0.0|                0.0|         0.0|\n",
      "|            1.0|40.0|   1979.0|         0.0|                  0.0|                    2.0|               0.0|           1.0|                 0.0|            0.0|            2.0|            0.0|                    2.0|                0.0|              1.0|              0.0|                 0.0|              3.0|               2.0|                   0.0|                1.0|                   1.0|          7.0|                 1.0|             2.0|                0.0|         0.0|\n",
      "|            2.0|19.0|   2000.0|         1.0|                  0.0|                    4.0|               4.0|           0.0|                 2.0|            0.0|            0.0|            1.0|                    1.0|                1.0|              1.0|              0.0|                 8.0|              1.0|               1.0|                   2.0|                0.0|                   0.0|          7.0|                 2.0|             2.0|                2.0|         1.0|\n",
      "|            1.0|25.0|   1994.0|         1.0|                  0.0|                    1.0|               1.0|           2.0|                 1.0|            0.0|            0.0|            1.0|                    1.0|                1.0|              1.0|              0.0|                 2.0|              0.0|               0.0|                   1.0|                0.0|                   1.0|          7.0|                 1.0|             0.0|                2.0|         0.0|\n",
      "|            3.0|23.0|   1996.0|         0.0|                  0.0|                    2.0|               2.0|           0.0|                 3.0|            0.0|            0.0|            0.0|                    0.0|                0.0|              0.0|              2.0|                 3.0|              3.0|               0.0|                   0.0|                0.0|                   0.0|          7.0|                 1.0|             0.0|                1.0|         1.0|\n",
      "|            2.0|27.0|   1992.0|         0.0|                  0.0|                    0.0|               0.0|           0.0|                 2.0|            0.0|            1.0|            0.0|                    1.0|                0.0|              0.0|              0.0|                 2.0|              2.0|               1.0|                   0.0|                0.0|                   0.0|          7.0|                 1.0|             2.0|                0.0|         0.0|\n",
      "|            3.0|25.0|   1994.0|         0.0|                  0.0|                    0.0|               0.0|           4.0|                 0.0|            0.0|            0.0|            0.0|                    1.0|                1.0|              0.0|              0.0|                 2.0|              0.0|               0.0|                   1.0|                0.0|                   0.0|          7.0|                 0.0|             0.0|                0.0|         1.0|\n",
      "+---------------+----+---------+------------+---------------------+-----------------------+------------------+--------------+--------------------+---------------+---------------+---------------+-----------------------+-------------------+-----------------+-----------------+--------------------+-----------------+------------------+----------------------+-------------------+----------------------+-------------+--------------------+----------------+-------------------+------------+\n",
      "only showing top 20 rows\n",
      "\n"
     ]
    }
   ],
   "source": [
    "# Define the new order of columns\n",
    "new_order = [\"GovernmentTrust\", \"Age\", \"BirthYear\", \"Gender_index\", \"VirusPrevention_index\", \n",
    "             \"MarketOperability_index\", \"LevelConcern_index\", \"Concerns_index\", \"EconomicImpact_index\",\n",
    "             \"Awareness_index\", \"Age Group_index\", \"Foodworry_index\", \n",
    "             \"NonEssentialItems_index\", \"RiskAwareness_index\", \"Urban/Rural_index\", \n",
    "             \"SocialMedia_index\", \"FoodLocations2_index\", \"HandWashing_index\", \n",
    "             \"FoodShopping_index\", \"MediaConsumption_index\", \"FoodLocations_index\", \n",
    "             \"SocialDistancing_index\", \"Country_index\", \"HealthBehavior_index\", \n",
    "             \"FoodAmount_index\", \"BrandPurchase_index\",  \"Tested_index\"]\n",
    "\n",
    "df_new_order = df.select([col(column_name) for column_name in new_order])\n",
    "\n",
    "df_new_order.show()"
   ]
  },
  {
   "cell_type": "markdown",
   "metadata": {},
   "source": [
    "Building prediction model"
   ]
  },
  {
   "cell_type": "code",
   "execution_count": 14,
   "metadata": {},
   "outputs": [],
   "source": [
    "import numpy as np\n",
    "from sklearn.preprocessing import StandardScaler\n",
    "from imblearn.over_sampling import RandomOverSampler"
   ]
  },
  {
   "cell_type": "markdown",
   "metadata": {},
   "source": [
    "Splitting data for model\n"
   ]
  },
  {
   "cell_type": "code",
   "execution_count": 15,
   "metadata": {},
   "outputs": [
    {
     "name": "stderr",
     "output_type": "stream",
     "text": [
      "c:\\Users\\DELL\\AppData\\Local\\Programs\\Python\\Python310\\lib\\site-packages\\numpy\\core\\fromnumeric.py:59: FutureWarning: 'DataFrame.swapaxes' is deprecated and will be removed in a future version. Please use 'DataFrame.transpose' instead.\n",
      "  return bound(*args, **kwds)\n"
     ]
    }
   ],
   "source": [
    "# Convert PySpark DataFrame to Pandas DataFrame\n",
    "df_used = df_new_order.toPandas()\n",
    "\n",
    "train, valid, test = np.split(df_used.sample (frac=1), [int(0.6*len(df_used)), int(0.8*len(df_used))])\n"
   ]
  },
  {
   "cell_type": "code",
   "execution_count": 16,
   "metadata": {},
   "outputs": [
    {
     "name": "stdout",
     "output_type": "stream",
     "text": [
      "Predicted Column: Tested_index\n"
     ]
    }
   ],
   "source": [
    "column_names = df_used.columns\n",
    "predicted_column = column_names[-1]\n",
    "\n",
    "print(\"Predicted Column:\", predicted_column)"
   ]
  },
  {
   "cell_type": "code",
   "execution_count": 17,
   "metadata": {},
   "outputs": [],
   "source": [
    "def scale_dataset(dataframe , oversample = False ):\n",
    "    X = dataframe[dataframe.columns[:-1]].values\n",
    "    y = dataframe[dataframe.columns[-1]].values\n",
    "    \n",
    "    scaler = StandardScaler()\n",
    "\n",
    "    X = scaler.fit_transform(X)\n",
    "    \n",
    "    if oversample:\n",
    "        ros = RandomOverSampler()\n",
    "        X , y = ros.fit_resample(X , y)\n",
    "    \n",
    "    data = np.hstack(( X, np.reshape(y , (-1 , 1)) ))\n",
    "\n",
    "    return data, X, y\n",
    "\n",
    "\n",
    "train, X_train, y_train = scale_dataset(train, oversample = True)\n",
    "valid, X_valid, y_valid = scale_dataset(valid, oversample = False)\n",
    "test, X_test, y_test = scale_dataset(test, oversample = False)"
   ]
  },
  {
   "cell_type": "markdown",
   "metadata": {},
   "source": [
    "Histogram based Gradient Boosting"
   ]
  },
  {
   "cell_type": "code",
   "execution_count": 18,
   "metadata": {},
   "outputs": [
    {
     "data": {
      "text/html": [
       "<style>#sk-container-id-1 {color: black;}#sk-container-id-1 pre{padding: 0;}#sk-container-id-1 div.sk-toggleable {background-color: white;}#sk-container-id-1 label.sk-toggleable__label {cursor: pointer;display: block;width: 100%;margin-bottom: 0;padding: 0.3em;box-sizing: border-box;text-align: center;}#sk-container-id-1 label.sk-toggleable__label-arrow:before {content: \"▸\";float: left;margin-right: 0.25em;color: #696969;}#sk-container-id-1 label.sk-toggleable__label-arrow:hover:before {color: black;}#sk-container-id-1 div.sk-estimator:hover label.sk-toggleable__label-arrow:before {color: black;}#sk-container-id-1 div.sk-toggleable__content {max-height: 0;max-width: 0;overflow: hidden;text-align: left;background-color: #f0f8ff;}#sk-container-id-1 div.sk-toggleable__content pre {margin: 0.2em;color: black;border-radius: 0.25em;background-color: #f0f8ff;}#sk-container-id-1 input.sk-toggleable__control:checked~div.sk-toggleable__content {max-height: 200px;max-width: 100%;overflow: auto;}#sk-container-id-1 input.sk-toggleable__control:checked~label.sk-toggleable__label-arrow:before {content: \"▾\";}#sk-container-id-1 div.sk-estimator input.sk-toggleable__control:checked~label.sk-toggleable__label {background-color: #d4ebff;}#sk-container-id-1 div.sk-label input.sk-toggleable__control:checked~label.sk-toggleable__label {background-color: #d4ebff;}#sk-container-id-1 input.sk-hidden--visually {border: 0;clip: rect(1px 1px 1px 1px);clip: rect(1px, 1px, 1px, 1px);height: 1px;margin: -1px;overflow: hidden;padding: 0;position: absolute;width: 1px;}#sk-container-id-1 div.sk-estimator {font-family: monospace;background-color: #f0f8ff;border: 1px dotted black;border-radius: 0.25em;box-sizing: border-box;margin-bottom: 0.5em;}#sk-container-id-1 div.sk-estimator:hover {background-color: #d4ebff;}#sk-container-id-1 div.sk-parallel-item::after {content: \"\";width: 100%;border-bottom: 1px solid gray;flex-grow: 1;}#sk-container-id-1 div.sk-label:hover label.sk-toggleable__label {background-color: #d4ebff;}#sk-container-id-1 div.sk-serial::before {content: \"\";position: absolute;border-left: 1px solid gray;box-sizing: border-box;top: 0;bottom: 0;left: 50%;z-index: 0;}#sk-container-id-1 div.sk-serial {display: flex;flex-direction: column;align-items: center;background-color: white;padding-right: 0.2em;padding-left: 0.2em;position: relative;}#sk-container-id-1 div.sk-item {position: relative;z-index: 1;}#sk-container-id-1 div.sk-parallel {display: flex;align-items: stretch;justify-content: center;background-color: white;position: relative;}#sk-container-id-1 div.sk-item::before, #sk-container-id-1 div.sk-parallel-item::before {content: \"\";position: absolute;border-left: 1px solid gray;box-sizing: border-box;top: 0;bottom: 0;left: 50%;z-index: -1;}#sk-container-id-1 div.sk-parallel-item {display: flex;flex-direction: column;z-index: 1;position: relative;background-color: white;}#sk-container-id-1 div.sk-parallel-item:first-child::after {align-self: flex-end;width: 50%;}#sk-container-id-1 div.sk-parallel-item:last-child::after {align-self: flex-start;width: 50%;}#sk-container-id-1 div.sk-parallel-item:only-child::after {width: 0;}#sk-container-id-1 div.sk-dashed-wrapped {border: 1px dashed gray;margin: 0 0.4em 0.5em 0.4em;box-sizing: border-box;padding-bottom: 0.4em;background-color: white;}#sk-container-id-1 div.sk-label label {font-family: monospace;font-weight: bold;display: inline-block;line-height: 1.2em;}#sk-container-id-1 div.sk-label-container {text-align: center;}#sk-container-id-1 div.sk-container {/* jupyter's `normalize.less` sets `[hidden] { display: none; }` but bootstrap.min.css set `[hidden] { display: none !important; }` so we also need the `!important` here to be able to override the default hidden behavior on the sphinx rendered scikit-learn.org. See: https://github.com/scikit-learn/scikit-learn/issues/21755 */display: inline-block !important;position: relative;}#sk-container-id-1 div.sk-text-repr-fallback {display: none;}</style><div id=\"sk-container-id-1\" class=\"sk-top-container\"><div class=\"sk-text-repr-fallback\"><pre>HistGradientBoostingClassifier()</pre><b>In a Jupyter environment, please rerun this cell to show the HTML representation or trust the notebook. <br />On GitHub, the HTML representation is unable to render, please try loading this page with nbviewer.org.</b></div><div class=\"sk-container\" hidden><div class=\"sk-item\"><div class=\"sk-estimator sk-toggleable\"><input class=\"sk-toggleable__control sk-hidden--visually\" id=\"sk-estimator-id-1\" type=\"checkbox\" checked><label for=\"sk-estimator-id-1\" class=\"sk-toggleable__label sk-toggleable__label-arrow\">HistGradientBoostingClassifier</label><div class=\"sk-toggleable__content\"><pre>HistGradientBoostingClassifier()</pre></div></div></div></div></div>"
      ],
      "text/plain": [
       "HistGradientBoostingClassifier()"
      ]
     },
     "execution_count": 18,
     "metadata": {},
     "output_type": "execute_result"
    }
   ],
   "source": [
    "from sklearn.metrics import classification_report\n",
    "from sklearn.ensemble import HistGradientBoostingClassifier\n",
    "\n",
    "\n",
    "HBGmodel = HistGradientBoostingClassifier()\n",
    "HBGmodel.fit(X_train, y_train)\n"
   ]
  },
  {
   "cell_type": "code",
   "execution_count": 19,
   "metadata": {},
   "outputs": [
    {
     "name": "stdout",
     "output_type": "stream",
     "text": [
      "              precision    recall  f1-score   support\n",
      "\n",
      "         0.0       0.83      0.86      0.84       276\n",
      "         1.0       0.79      0.76      0.77       202\n",
      "\n",
      "    accuracy                           0.81       478\n",
      "   macro avg       0.81      0.81      0.81       478\n",
      "weighted avg       0.81      0.81      0.81       478\n",
      "\n"
     ]
    }
   ],
   "source": [
    "y_predictions = HBGmodel.predict(X_test)\n",
    "print(classification_report(y_test, y_predictions))"
   ]
  },
  {
   "cell_type": "code",
   "execution_count": 20,
   "metadata": {},
   "outputs": [
    {
     "name": "stdout",
     "output_type": "stream",
     "text": [
      "              precision    recall  f1-score   support\n",
      "\n",
      "         0.0       0.83      0.85      0.84       294\n",
      "         1.0       0.75      0.72      0.74       184\n",
      "\n",
      "    accuracy                           0.80       478\n",
      "   macro avg       0.79      0.79      0.79       478\n",
      "weighted avg       0.80      0.80      0.80       478\n",
      "\n"
     ]
    }
   ],
   "source": [
    "y_predictions = HBGmodel.predict(X_valid)\n",
    "print(classification_report(y_valid, y_predictions))"
   ]
  },
  {
   "cell_type": "code",
   "execution_count": 21,
   "metadata": {},
   "outputs": [],
   "source": [
    "# Stop the Spark session\n",
    "spark.stop()"
   ]
  }
 ],
 "metadata": {
  "kernelspec": {
   "display_name": "gan_example_env",
   "language": "python",
   "name": "gan_example_env"
  },
  "language_info": {
   "codemirror_mode": {
    "name": "ipython",
    "version": 3
   },
   "file_extension": ".py",
   "mimetype": "text/x-python",
   "name": "python",
   "nbconvert_exporter": "python",
   "pygments_lexer": "ipython3",
   "version": "3.10.2"
  }
 },
 "nbformat": 4,
 "nbformat_minor": 2
}
